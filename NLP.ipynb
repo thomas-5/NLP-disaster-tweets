{
 "cells": [
  {
   "cell_type": "code",
   "execution_count": 2,
   "id": "081febe5",
   "metadata": {},
   "outputs": [],
   "source": [
    "import pandas as pd\n",
    "import numpy as np\n",
    "from sklearn import feature_extraction, linear_model, model_selection, preprocessing"
   ]
  },
  {
   "cell_type": "code",
   "execution_count": 40,
   "id": "4de368db",
   "metadata": {},
   "outputs": [
    {
     "name": "stdout",
     "output_type": "stream",
     "text": [
      "   id keyword location                                               text  \\\n",
      "0   1     NaN      NaN  Our Deeds are the Reason of this #earthquake M...   \n",
      "1   4     NaN      NaN             Forest fire near La Ronge Sask. Canada   \n",
      "2   5     NaN      NaN  All residents asked to 'shelter in place' are ...   \n",
      "3   6     NaN      NaN  13,000 people receive #wildfires evacuation or...   \n",
      "4   7     NaN      NaN  Just got sent this photo from Ruby #Alaska as ...   \n",
      "\n",
      "   target  \n",
      "0       1  \n",
      "1       1  \n",
      "2       1  \n",
      "3       1  \n",
      "4       1  \n",
      "   id keyword location                                               text\n",
      "0   0     NaN      NaN                 Just happened a terrible car crash\n",
      "1   2     NaN      NaN  Heard about #earthquake is different cities, s...\n",
      "2   3     NaN      NaN  there is a forest fire at spot pond, geese are...\n",
      "3   9     NaN      NaN           Apocalypse lighting. #Spokane #wildfires\n",
      "4  11     NaN      NaN      Typhoon Soudelor kills 28 in China and Taiwan\n"
     ]
    }
   ],
   "source": [
    "train_df = pd.read_csv(\"train.csv\")\n",
    "test_df = pd.read_csv(\"test.csv\")\n",
    "\n",
    "print(train_df.head())\n",
    "print(test_df.head())"
   ]
  },
  {
   "cell_type": "code",
   "execution_count": 9,
   "id": "cc0711f5",
   "metadata": {},
   "outputs": [
    {
     "name": "stdout",
     "output_type": "stream",
     "text": [
      "I love fruits\n",
      "Forest fire near La Ronge Sask. Canada\n"
     ]
    }
   ],
   "source": [
    "# An example of what is not a disaster tweet\n",
    "# \"target\" == 0 indicates that the tweet is not a disaster tweet\n",
    "print(train_df[train_df[\"target\"] == 0][\"text\"].values[1])\n",
    "\n",
    "# An example of what is a disaster tweet\n",
    "# \"target\" == 1 ...\n",
    "print(train_df[train_df[\"target\"] == 1][\"text\"].values[1])"
   ]
  },
  {
   "cell_type": "code",
   "execution_count": 26,
   "id": "725148b1",
   "metadata": {},
   "outputs": [
    {
     "name": "stdout",
     "output_type": "stream",
     "text": [
      "(1, 54)\n",
      "[[0 0 0 1 1 1 0 0 0 0 0 0 1 1 0 0 0 0 1 0 0 0 0 0 0 1 0 0 0 1 0 0 0 0 1 0\n",
      "  0 0 0 1 0 0 0 0 0 0 0 0 0 1 1 0 1 0]]\n"
     ]
    }
   ],
   "source": [
    "count_vectorizer = feature_extraction.text.CountVectorizer()\n",
    "\n",
    "# Count the words in each tweet and turn them into data our machine learning model can process\n",
    "ex_train_vector = count_vectorizer.fit_transform(train_df[\"text\"][0:5])\n",
    "\n",
    "print(ex_train_vector[0].todense().shape)\n",
    "print(ex_train_vector[0].todense())"
   ]
  },
  {
   "cell_type": "markdown",
   "id": "cb4aa97b",
   "metadata": {},
   "source": [
    "The above tells us that:\n",
    "- There are 54 unique words(tokens) in the first five tweets\n",
    "- The first tweet contains only some of those unique tokens -all of the non-zero counts above are the tokens that DO exist in the first tweet."
   ]
  },
  {
   "cell_type": "code",
   "execution_count": 29,
   "id": "fabcde02",
   "metadata": {},
   "outputs": [],
   "source": [
    "train_vectors = count_vectorizer.fit_transform(train_df[\"text\"])\n",
    "\n",
    "# note that we use .transform() here to make sure that the train and test vectors use the same set of tokens.\n",
    "test_vectors = count_vectorizer.transform(test_df[\"text\"])"
   ]
  },
  {
   "cell_type": "markdown",
   "id": "0c70ee68",
   "metadata": {},
   "source": [
    "The words contained in each tweet are a good indicator of whether they're about real disaster or not. The presence of particular word (or set of words) in a tweet might link directly to whether or not that tweet is real."
   ]
  },
  {
   "cell_type": "code",
   "execution_count": 43,
   "id": "cf7c72d4",
   "metadata": {},
   "outputs": [
    {
     "name": "stdout",
     "output_type": "stream",
     "text": [
      "[0.59421842 0.56498283 0.64082434]\n",
      "[0.549217   0.54396505 0.62068966]\n"
     ]
    }
   ],
   "source": [
    "# define the classifier\n",
    "# Ridge Classifier\n",
    "R_clf = linear_model.RidgeClassifier()\n",
    "\n",
    "# Logistic Classifier\n",
    "L_clf = linear_model.LogisticRegression(C=0.01)\n",
    "\n",
    "X_train = train_vectors\n",
    "Y_train = train_df[\"target\"]\n",
    "\n",
    "# We train on a portion of the known data, then validate it with the rest. (do this several times)\n",
    "\n",
    "# Ridge\n",
    "R_scores = model_selection.cross_val_score(R_clf, X_train, Y_train, cv=3, scoring=\"f1\")\n",
    "print(R_scores)\n",
    "\n",
    "# Logistic\n",
    "L_scores = model_selection.cross_val_score(L_clf, X_train,Y_train, cv=3, scoring='f1')\n",
    "print(L_scores)"
   ]
  },
  {
   "cell_type": "code",
   "execution_count": 41,
   "id": "be74165d",
   "metadata": {},
   "outputs": [
    {
     "data": {
      "text/html": [
       "<div>\n",
       "<style scoped>\n",
       "    .dataframe tbody tr th:only-of-type {\n",
       "        vertical-align: middle;\n",
       "    }\n",
       "\n",
       "    .dataframe tbody tr th {\n",
       "        vertical-align: top;\n",
       "    }\n",
       "\n",
       "    .dataframe thead th {\n",
       "        text-align: right;\n",
       "    }\n",
       "</style>\n",
       "<table border=\"1\" class=\"dataframe\">\n",
       "  <thead>\n",
       "    <tr style=\"text-align: right;\">\n",
       "      <th></th>\n",
       "      <th>id</th>\n",
       "      <th>target</th>\n",
       "    </tr>\n",
       "  </thead>\n",
       "  <tbody>\n",
       "    <tr>\n",
       "      <th>0</th>\n",
       "      <td>0</td>\n",
       "      <td>0</td>\n",
       "    </tr>\n",
       "    <tr>\n",
       "      <th>1</th>\n",
       "      <td>2</td>\n",
       "      <td>1</td>\n",
       "    </tr>\n",
       "    <tr>\n",
       "      <th>2</th>\n",
       "      <td>3</td>\n",
       "      <td>1</td>\n",
       "    </tr>\n",
       "    <tr>\n",
       "      <th>3</th>\n",
       "      <td>9</td>\n",
       "      <td>0</td>\n",
       "    </tr>\n",
       "    <tr>\n",
       "      <th>4</th>\n",
       "      <td>11</td>\n",
       "      <td>1</td>\n",
       "    </tr>\n",
       "  </tbody>\n",
       "</table>\n",
       "</div>"
      ],
      "text/plain": [
       "   id  target\n",
       "0   0       0\n",
       "1   2       1\n",
       "2   3       1\n",
       "3   9       0\n",
       "4  11       1"
      ]
     },
     "execution_count": 41,
     "metadata": {},
     "output_type": "execute_result"
    }
   ],
   "source": [
    "clf.fit(X_train, Y_train)\n",
    "X_test = test_vectors\n",
    "\n",
    "sample_submission = pd.read_csv(\"sample_submission.csv\")\n",
    "sample_submission[\"target\"] = clf.predict(X_test)\n",
    "sample_submission.head()"
   ]
  },
  {
   "cell_type": "code",
   "execution_count": null,
   "id": "569dbea8",
   "metadata": {},
   "outputs": [],
   "source": []
  }
 ],
 "metadata": {
  "kernelspec": {
   "display_name": "Python 3 (ipykernel)",
   "language": "python",
   "name": "python3"
  },
  "language_info": {
   "codemirror_mode": {
    "name": "ipython",
    "version": 3
   },
   "file_extension": ".py",
   "mimetype": "text/x-python",
   "name": "python",
   "nbconvert_exporter": "python",
   "pygments_lexer": "ipython3",
   "version": "3.9.7"
  }
 },
 "nbformat": 4,
 "nbformat_minor": 5
}
